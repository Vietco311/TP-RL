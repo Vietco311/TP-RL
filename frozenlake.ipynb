{
 "cells": [
  {
   "cell_type": "markdown",
   "metadata": {},
   "source": [
    "# TP1"
   ]
  },
  {
   "cell_type": "markdown",
   "metadata": {},
   "source": [
    "## 1"
   ]
  },
  {
   "cell_type": "code",
   "execution_count": 1,
   "metadata": {},
   "outputs": [],
   "source": [
    "import gym\n",
    "import numpy as np\n",
    "import pygame"
   ]
  },
  {
   "cell_type": "markdown",
   "metadata": {},
   "source": [
    "## 2.1"
   ]
  },
  {
   "cell_type": "code",
   "execution_count": 2,
   "metadata": {},
   "outputs": [
    {
     "data": {
      "text/plain": [
       "<bound method Wrapper.render of <TimeLimit<OrderEnforcing<PassiveEnvChecker<FrozenLakeEnv<FrozenLake-v1>>>>>>"
      ]
     },
     "execution_count": 2,
     "metadata": {},
     "output_type": "execute_result"
    }
   ],
   "source": [
    "env = gym.make('FrozenLake-v1', desc=None, map_name=\"4x4\", is_slippery=True)\n",
    "env.render"
   ]
  },
  {
   "cell_type": "code",
   "execution_count": 3,
   "metadata": {},
   "outputs": [
    {
     "name": "stdout",
     "output_type": "stream",
     "text": [
      "Discrete(16)\n"
     ]
    }
   ],
   "source": [
    "print(env.observation_space)"
   ]
  },
  {
   "cell_type": "code",
   "execution_count": 4,
   "metadata": {},
   "outputs": [
    {
     "name": "stdout",
     "output_type": "stream",
     "text": [
      "Discrete(4)\n"
     ]
    }
   ],
   "source": [
    "print(env.action_space)"
   ]
  },
  {
   "cell_type": "code",
   "execution_count": 5,
   "metadata": {},
   "outputs": [
    {
     "name": "stdout",
     "output_type": "stream",
     "text": [
      "[(0.3333333333333333, 4, 0.0, False), (0.3333333333333333, 1, 0.0, False), (0.3333333333333333, 0, 0.0, False)]\n"
     ]
    }
   ],
   "source": [
    "print(env.P[0][2])"
   ]
  },
  {
   "cell_type": "code",
   "execution_count": 6,
   "metadata": {},
   "outputs": [
    {
     "name": "stdout",
     "output_type": "stream",
     "text": [
      "[(0.3333333333333333, 2, 0.0, False), (0.3333333333333333, 7, 0.0, True), (0.3333333333333333, 3, 0.0, False)]\n"
     ]
    }
   ],
   "source": [
    "print(env.P[3][1])"
   ]
  },
  {
   "cell_type": "code",
   "execution_count": 7,
   "metadata": {},
   "outputs": [
    {
     "name": "stderr",
     "output_type": "stream",
     "text": [
      "c:\\Python311\\Lib\\site-packages\\gym\\utils\\passive_env_checker.py:233: DeprecationWarning: `np.bool8` is a deprecated alias for `np.bool_`.  (Deprecated NumPy 1.24)\n",
      "  if not isinstance(terminated, (bool, np.bool8)):\n"
     ]
    },
    {
     "data": {
      "text/plain": [
       "(0, 0.0, False, False, {'prob': 0.3333333333333333})"
      ]
     },
     "execution_count": 7,
     "metadata": {},
     "output_type": "execute_result"
    }
   ],
   "source": [
    "env.reset()\n",
    "env.step(1)"
   ]
  },
  {
   "cell_type": "code",
   "execution_count": null,
   "metadata": {},
   "outputs": [],
   "source": []
  },
  {
   "cell_type": "code",
   "execution_count": 8,
   "metadata": {},
   "outputs": [],
   "source": [
    "random_action = env.action_space.sample()"
   ]
  },
  {
   "cell_type": "code",
   "execution_count": 9,
   "metadata": {},
   "outputs": [
    {
     "data": {
      "text/plain": [
       "(0, {'prob': 1})"
      ]
     },
     "execution_count": 9,
     "metadata": {},
     "output_type": "execute_result"
    }
   ],
   "source": [
    "\n",
    "env.reset()"
   ]
  },
  {
   "cell_type": "markdown",
   "metadata": {},
   "source": [
    "## 2.2"
   ]
  },
  {
   "cell_type": "code",
   "execution_count": 10,
   "metadata": {},
   "outputs": [
    {
     "name": "stdout",
     "output_type": "stream",
     "text": [
      "0 0.0 False False {'prob': 0.3333333333333333}\n",
      "0 0.0 False False {'prob': 0.3333333333333333}\n",
      "0 0.0 False False {'prob': 0.3333333333333333}\n",
      "1 0.0 False False {'prob': 0.3333333333333333}\n",
      "0 0.0 False False {'prob': 0.3333333333333333}\n",
      "4 0.0 False False {'prob': 0.3333333333333333}\n",
      "0 0.0 False False {'prob': 0.3333333333333333}\n",
      "4 0.0 False False {'prob': 0.3333333333333333}\n",
      "8 0.0 False False {'prob': 0.3333333333333333}\n",
      "4 0.0 False False {'prob': 0.3333333333333333}\n",
      "0 0.0 False False {'prob': 0.3333333333333333}\n",
      "1 0.0 False False {'prob': 0.3333333333333333}\n",
      "2 0.0 False False {'prob': 0.3333333333333333}\n",
      "6 0.0 False False {'prob': 0.3333333333333333}\n",
      "5 0.0 True False {'prob': 0.3333333333333333}\n",
      "0\n",
      "4 0.0 False False {'prob': 0.3333333333333333}\n",
      "4 0.0 False False {'prob': 0.3333333333333333}\n",
      "4 0.0 False False {'prob': 0.3333333333333333}\n",
      "8 0.0 False False {'prob': 0.3333333333333333}\n",
      "9 0.0 False False {'prob': 0.3333333333333333}\n",
      "8 0.0 False False {'prob': 0.3333333333333333}\n",
      "9 0.0 False False {'prob': 0.3333333333333333}\n",
      "10 0.0 False False {'prob': 0.3333333333333333}\n",
      "11 0.0 True False {'prob': 0.3333333333333333}\n",
      "1\n",
      "4 0.0 False False {'prob': 0.3333333333333333}\n",
      "0 0.0 False False {'prob': 0.3333333333333333}\n",
      "1 0.0 False False {'prob': 0.3333333333333333}\n",
      "5 0.0 True False {'prob': 0.3333333333333333}\n",
      "2\n",
      "4 0.0 False False {'prob': 0.3333333333333333}\n",
      "4 0.0 False False {'prob': 0.3333333333333333}\n",
      "0 0.0 False False {'prob': 0.3333333333333333}\n",
      "0 0.0 False False {'prob': 0.3333333333333333}\n",
      "4 0.0 False False {'prob': 0.3333333333333333}\n",
      "0 0.0 False False {'prob': 0.3333333333333333}\n",
      "0 0.0 False False {'prob': 0.3333333333333333}\n",
      "0 0.0 False False {'prob': 0.3333333333333333}\n",
      "4 0.0 False False {'prob': 0.3333333333333333}\n",
      "0 0.0 False False {'prob': 0.3333333333333333}\n",
      "1 0.0 False False {'prob': 0.3333333333333333}\n",
      "5 0.0 True False {'prob': 0.3333333333333333}\n",
      "3\n",
      "0 0.0 False False {'prob': 0.3333333333333333}\n",
      "0 0.0 False False {'prob': 0.3333333333333333}\n",
      "0 0.0 False False {'prob': 0.3333333333333333}\n",
      "4 0.0 False False {'prob': 0.3333333333333333}\n",
      "4 0.0 False False {'prob': 0.3333333333333333}\n",
      "8 0.0 False False {'prob': 0.3333333333333333}\n",
      "8 0.0 False False {'prob': 0.3333333333333333}\n",
      "4 0.0 False False {'prob': 0.3333333333333333}\n",
      "4 0.0 False False {'prob': 0.3333333333333333}\n",
      "5 0.0 True False {'prob': 0.3333333333333333}\n",
      "4\n",
      "0 0.0 False False {'prob': 0.3333333333333333}\n",
      "0 0.0 False False {'prob': 0.3333333333333333}\n",
      "1 0.0 False False {'prob': 0.3333333333333333}\n",
      "5 0.0 True False {'prob': 0.3333333333333333}\n",
      "5\n",
      "1 0.0 False False {'prob': 0.3333333333333333}\n",
      "2 0.0 False False {'prob': 0.3333333333333333}\n",
      "3 0.0 False False {'prob': 0.3333333333333333}\n",
      "3 0.0 False False {'prob': 0.3333333333333333}\n",
      "2 0.0 False False {'prob': 0.3333333333333333}\n",
      "6 0.0 False False {'prob': 0.3333333333333333}\n",
      "10 0.0 False False {'prob': 0.3333333333333333}\n",
      "6 0.0 False False {'prob': 0.3333333333333333}\n",
      "2 0.0 False False {'prob': 0.3333333333333333}\n",
      "1 0.0 False False {'prob': 0.3333333333333333}\n",
      "5 0.0 True False {'prob': 0.3333333333333333}\n",
      "6\n",
      "1 0.0 False False {'prob': 0.3333333333333333}\n",
      "2 0.0 False False {'prob': 0.3333333333333333}\n",
      "2 0.0 False False {'prob': 0.3333333333333333}\n",
      "2 0.0 False False {'prob': 0.3333333333333333}\n",
      "6 0.0 False False {'prob': 0.3333333333333333}\n",
      "7 0.0 True False {'prob': 0.3333333333333333}\n",
      "7\n",
      "0 0.0 False False {'prob': 0.3333333333333333}\n",
      "0 0.0 False False {'prob': 0.3333333333333333}\n",
      "0 0.0 False False {'prob': 0.3333333333333333}\n",
      "4 0.0 False False {'prob': 0.3333333333333333}\n",
      "8 0.0 False False {'prob': 0.3333333333333333}\n",
      "8 0.0 False False {'prob': 0.3333333333333333}\n",
      "12 0.0 True False {'prob': 0.3333333333333333}\n",
      "8\n",
      "4 0.0 False False {'prob': 0.3333333333333333}\n",
      "0 0.0 False False {'prob': 0.3333333333333333}\n",
      "1 0.0 False False {'prob': 0.3333333333333333}\n",
      "1 0.0 False False {'prob': 0.3333333333333333}\n",
      "2 0.0 False False {'prob': 0.3333333333333333}\n",
      "6 0.0 False False {'prob': 0.3333333333333333}\n",
      "10 0.0 False False {'prob': 0.3333333333333333}\n",
      "6 0.0 False False {'prob': 0.3333333333333333}\n",
      "10 0.0 False False {'prob': 0.3333333333333333}\n",
      "11 0.0 True False {'prob': 0.3333333333333333}\n",
      "9\n",
      "4 0.0 False False {'prob': 0.3333333333333333}\n",
      "5 0.0 True False {'prob': 0.3333333333333333}\n",
      "10\n",
      "1 0.0 False False {'prob': 0.3333333333333333}\n",
      "1 0.0 False False {'prob': 0.3333333333333333}\n",
      "1 0.0 False False {'prob': 0.3333333333333333}\n",
      "5 0.0 True False {'prob': 0.3333333333333333}\n",
      "11\n",
      "0 0.0 False False {'prob': 0.3333333333333333}\n",
      "4 0.0 False False {'prob': 0.3333333333333333}\n",
      "8 0.0 False False {'prob': 0.3333333333333333}\n",
      "4 0.0 False False {'prob': 0.3333333333333333}\n",
      "4 0.0 False False {'prob': 0.3333333333333333}\n",
      "5 0.0 True False {'prob': 0.3333333333333333}\n",
      "12\n",
      "0 0.0 False False {'prob': 0.3333333333333333}\n",
      "0 0.0 False False {'prob': 0.3333333333333333}\n",
      "0 0.0 False False {'prob': 0.3333333333333333}\n",
      "0 0.0 False False {'prob': 0.3333333333333333}\n",
      "1 0.0 False False {'prob': 0.3333333333333333}\n",
      "2 0.0 False False {'prob': 0.3333333333333333}\n",
      "2 0.0 False False {'prob': 0.3333333333333333}\n",
      "1 0.0 False False {'prob': 0.3333333333333333}\n",
      "1 0.0 False False {'prob': 0.3333333333333333}\n",
      "0 0.0 False False {'prob': 0.3333333333333333}\n",
      "0 0.0 False False {'prob': 0.3333333333333333}\n",
      "4 0.0 False False {'prob': 0.3333333333333333}\n",
      "0 0.0 False False {'prob': 0.3333333333333333}\n",
      "0 0.0 False False {'prob': 0.3333333333333333}\n",
      "4 0.0 False False {'prob': 0.3333333333333333}\n",
      "8 0.0 False False {'prob': 0.3333333333333333}\n",
      "8 0.0 False False {'prob': 0.3333333333333333}\n",
      "9 0.0 False False {'prob': 0.3333333333333333}\n",
      "10 0.0 False False {'prob': 0.3333333333333333}\n",
      "14 0.0 False False {'prob': 0.3333333333333333}\n",
      "15 1.0 True False {'prob': 0.3333333333333333}\n",
      "13\n"
     ]
    }
   ],
   "source": [
    "def deroulement(num_timesteps:int, iteration:int=0):\n",
    "    env.reset()\n",
    "    i = 0\n",
    "    random_action = env.action_space.sample()\n",
    "    new_state, reward, done, info, prob = env.step(random_action)\n",
    "    print(new_state, reward, done, info, prob)\n",
    "    if done != True:\n",
    "        while i < num_timesteps and done != True:\n",
    "            random_action = env.action_space.sample()\n",
    "            new_state, reward, done, info, prob = env.step(random_action)\n",
    "            print(new_state, reward, done, info, prob)\n",
    "            i += 1\n",
    "        print(iteration)\n",
    "    if reward != 1:       \n",
    "        iteration+=1       \n",
    "        deroulement(num_timesteps,iteration)\n",
    "deroulement(20)\n",
    "env.close()"
   ]
  },
  {
   "cell_type": "code",
   "execution_count": 11,
   "metadata": {},
   "outputs": [
    {
     "name": "stdout",
     "output_type": "stream",
     "text": [
      "[0. 0. 0. 0. 0. 0. 0. 0. 0. 0. 0. 0. 0. 0. 0. 0.]\n"
     ]
    }
   ],
   "source": [
    "value_table = np.zeros(env.observation_space.n)\n",
    "print(value_table)"
   ]
  },
  {
   "cell_type": "markdown",
   "metadata": {},
   "source": [
    "# TP2\n",
    "## 1"
   ]
  },
  {
   "cell_type": "code",
   "execution_count": 12,
   "metadata": {},
   "outputs": [
    {
     "name": "stdout",
     "output_type": "stream",
     "text": [
      "Valeurs optimales:\n",
      "[0.82352941 0.82352941 0.82352941 0.82352941 0.82352941 0.\n",
      " 0.52941176 0.         0.82352941 0.82352941 0.76470588 0.\n",
      " 0.         0.88235294 0.94117647 0.        ]\n",
      "Politique optimale:\n",
      "[0 3 3 3 0 0 0 0 3 1 0 0 0 2 1 0]\n"
     ]
    }
   ],
   "source": [
    "def value_iteration(env, gamma=1, threshold=1e-20, max_iterations=1000):\n",
    "    n_states = env.observation_space.n\n",
    "    n_actions = env.action_space.n\n",
    "    V = np.zeros(n_states)\n",
    "    for _ in range(max_iterations):\n",
    "        delta = 0\n",
    "        for s in range(n_states):\n",
    "            v = V[s]\n",
    "            action_values = [sum(prob * (reward + gamma * V[next_state]) for prob, next_state, reward, _ in env.P[s][a]) for a in range(n_actions)]\n",
    "            V[s] = max(action_values)\n",
    "            \n",
    "            delta = max(delta, abs(v - V[s]))\n",
    "        if delta < threshold:\n",
    "            break\n",
    "    pi = np.argmax([[sum(prob * (reward + gamma * V[next_state]) for prob, next_state, reward, _ in env.P[s][a]) for a in range(n_actions)] for s in range(n_states)], axis=1)\n",
    "    return V, pi\n",
    "\n",
    "optimal_values, optimal_policy = value_iteration(env)\n",
    "\n",
    "print(\"Valeurs optimales:\")\n",
    "print(optimal_values)\n",
    "print(\"Politique optimale:\")\n",
    "print(optimal_policy)    "
   ]
  },
  {
   "cell_type": "markdown",
   "metadata": {},
   "source": [
    "## 2"
   ]
  },
  {
   "cell_type": "code",
   "execution_count": 13,
   "metadata": {},
   "outputs": [
    {
     "name": "stdout",
     "output_type": "stream",
     "text": [
      "Valeurs optimales:\n",
      "[0.82352941 0.82352941 0.82352941 0.82352941 0.82352941 0.\n",
      " 0.52941176 0.         0.82352941 0.82352941 0.76470588 0.\n",
      " 0.         0.88235294 0.94117647 0.        ]\n",
      "Politique optimale:\n",
      "[0 3 3 3 0 0 0 0 3 1 0 0 0 2 1 0]\n"
     ]
    }
   ],
   "source": [
    "def policy_iteration(env, gamma=1, threshold=1e-20):\n",
    "    n_states = env.observation_space.n\n",
    "    n_actions = env.action_space.n\n",
    "    V = np.zeros(n_states)\n",
    "    pi = np.random.choice(n_actions, size=n_states)\n",
    "\n",
    "    while True:\n",
    "        while True:\n",
    "            delta = 0\n",
    "            for s in range(n_states):\n",
    "                v = V[s]\n",
    "                action = pi[s]\n",
    "                transitions = env.P[s][action]\n",
    "                V[s] = sum(prob * (reward + gamma * V[next_state]) for prob, next_state, reward, _ in transitions)\n",
    "                delta = max(delta, abs(v - V[s]))\n",
    "            if delta < threshold:\n",
    "                break\n",
    "        policy_stable = True\n",
    "        for s in range(n_states):\n",
    "            old_action = pi[s]\n",
    "            pi[s] = np.argmax([sum(prob * (reward + gamma * V[next_state]) for prob, next_state, reward, _ in env.P[s][a]) for a in range(n_actions)])\n",
    "            if old_action != pi[s]:\n",
    "                policy_stable = False\n",
    "        if policy_stable:\n",
    "            return V, pi\n",
    "\n",
    "optimal_values, optimal_policy = policy_iteration(env)\n",
    "\n",
    "print(\"Valeurs optimales:\")\n",
    "print(optimal_values)\n",
    "print(\"Politique optimale:\")\n",
    "print(optimal_policy)"
   ]
  }
 ],
 "metadata": {
  "kernelspec": {
   "display_name": "Python 3",
   "language": "python",
   "name": "python3"
  },
  "language_info": {
   "codemirror_mode": {
    "name": "ipython",
    "version": 3
   },
   "file_extension": ".py",
   "mimetype": "text/x-python",
   "name": "python",
   "nbconvert_exporter": "python",
   "pygments_lexer": "ipython3",
   "version": "3.11.5"
  },
  "orig_nbformat": 4
 },
 "nbformat": 4,
 "nbformat_minor": 2
}
